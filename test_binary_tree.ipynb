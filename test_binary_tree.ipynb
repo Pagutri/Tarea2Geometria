{
 "cells": [
  {
   "cell_type": "markdown",
   "metadata": {},
   "source": [
    "Implementacion del arbol binario de busqueda (balanceado). Codigo tomado de https://www.geeksforgeeks.org/introduction-to-binary-search-tree-data-structure-and-algorithm-tutorials/"
   ]
  },
  {
   "cell_type": "markdown",
   "metadata": {},
   "source": [
    "A ver. Creo que es mas facil hacer primero el que guarda los segmentos. Nosierto, el que guarda los eventos."
   ]
  },
  {
   "cell_type": "code",
   "execution_count": 1,
   "metadata": {},
   "outputs": [],
   "source": [
    "from random import random, seed\n",
    "from Point import Point\n",
    "from Segment import Segment\n",
    "from NodoQ import *"
   ]
  },
  {
   "cell_type": "code",
   "execution_count": 2,
   "metadata": {},
   "outputs": [
    {
     "name": "stdout",
     "output_type": "stream",
     "text": [
      "( 1.656 1.133) ( 3.221 1.143) ( 2.175 2.91) ( 2.673 4.844) ( 8.396 7.412) ( 8.491 7.537) ( 3.969 8.84) ( 8.531 8.913) ( 4.391 9.342) ( 0.399 9.951) "
     ]
    }
   ],
   "source": [
    "set_of_points = []\n",
    "raiz = None\n",
    "seed()\n",
    "\n",
    "x = round(random()*10, 3)\n",
    "y = round(random()*10, 3)\n",
    "p1 = Point(x, y)\n",
    "set_of_points.append(p1)\n",
    "x = round(random()*10, 3)\n",
    "y = round(random()*10, 3)\n",
    "p2 = Point(x, y)\n",
    "set_of_points.append(p2)\n",
    "s = Segment(p1, p2)\n",
    "if p1 > p2:\n",
    "    raiz = insertar(raiz, p1, s)\n",
    "    raiz = insertar(raiz, p2, None)\n",
    "else:\n",
    "    raiz = insertar(raiz, p2, s)\n",
    "    raiz = insertar(raiz, p1, None)\n",
    "\n",
    "# Generar diez puntos, cinco segmentos de recta\n",
    "#\"\"\"\n",
    "for i in range(4):\n",
    "    x = round(random()*10, 3)\n",
    "    y = round(random()*10, 3)\n",
    "    p1 = Point(x, y)\n",
    "    set_of_points.append(p1)\n",
    "    x = round(random()*10, 3)\n",
    "    y = round(random()*10, 3)\n",
    "    p2 = Point(x, y)\n",
    "    set_of_points.append(p2)\n",
    "    s = Segment(p1, p2)\n",
    "    if p1 > p2:\n",
    "        raiz = insertar(raiz, p1, s)\n",
    "        raiz = insertar(raiz, p2, None)\n",
    "    else:\n",
    "        raiz = insertar(raiz, p2, s)\n",
    "        raiz = insertar(raiz, p1, None)\n",
    "#\"\"\"\n",
    "\n",
    "inorder(raiz)"
   ]
  },
  {
   "cell_type": "code",
   "execution_count": 9,
   "metadata": {},
   "outputs": [
    {
     "name": "stdout",
     "output_type": "stream",
     "text": [
      "( 4.521 2.927) ( 7.855 3.376) ( 9.372 3.534) ( 6.002 5.379) ( 6.583 5.783) ( 3.44 8.178) "
     ]
    }
   ],
   "source": [
    "max_nodo = nodo_maximo(raiz)\n",
    "\n",
    "inorder(raiz)"
   ]
  },
  {
   "cell_type": "code",
   "execution_count": 10,
   "metadata": {},
   "outputs": [
    {
     "name": "stdout",
     "output_type": "stream",
     "text": [
      "( 6.583 5.783) "
     ]
    }
   ],
   "source": [
    "raiz = borrar_ultimo_evento(raiz)\n",
    "inorder(raiz)"
   ]
  },
  {
   "cell_type": "code",
   "execution_count": null,
   "metadata": {},
   "outputs": [],
   "source": []
  }
 ],
 "metadata": {
  "kernelspec": {
   "display_name": "Python 3",
   "language": "python",
   "name": "python3"
  },
  "language_info": {
   "codemirror_mode": {
    "name": "ipython",
    "version": 3
   },
   "file_extension": ".py",
   "mimetype": "text/x-python",
   "name": "python",
   "nbconvert_exporter": "python",
   "pygments_lexer": "ipython3",
   "version": "3.7.3"
  }
 },
 "nbformat": 4,
 "nbformat_minor": 5
}
