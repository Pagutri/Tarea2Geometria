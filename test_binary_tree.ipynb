{
 "cells": [
  {
   "cell_type": "markdown",
   "id": "104ef46e",
   "metadata": {},
   "source": [
    "Implementacion del arbol binario de busqueda (balanceado). Codigo tomado de https://www.geeksforgeeks.org/introduction-to-binary-search-tree-data-structure-and-algorithm-tutorials/"
   ]
  },
  {
   "cell_type": "markdown",
   "id": "95229543",
   "metadata": {},
   "source": [
    "A ver. Creo que es mas facil hacer primero el que guarda los segmentos. Nosierto, el que guarda los eventos."
   ]
  },
  {
   "cell_type": "code",
   "execution_count": 2,
   "id": "eb74db07",
   "metadata": {},
   "outputs": [],
   "source": [
    "from random import random, seed\n",
    "from Point import Point\n",
    "from Segment import Segment"
   ]
  },
  {
   "cell_type": "code",
   "execution_count": 11,
   "id": "c8116a4c",
   "metadata": {},
   "outputs": [],
   "source": [
    "class NodoQ:\n",
    "    \"\"\"Arbol binario para guardar los puntos evento. Cada nodo\n",
    "    guarda el punto y el segmento que comienza en ese punto, o\n",
    "    'None' si ningun segmento comienza en ese punto. El orden\n",
    "    va de menor a mayor coordenada 'y' del punto. Puntos con la\n",
    "    misma coordenada 'y' van de menor a mayor coordenada 'x'.\"\"\"\n",
    "    def __init__(self, punto, segmento):\n",
    "        self.key = [punto, segmento]\n",
    "        self.left = None\n",
    "        self.right = None\n",
    "        \n",
    "def insertar(nodo, punto, segmento):\n",
    "    # Crear nuevo nodo\n",
    "    if nodo is None:\n",
    "        return NodoQ(punto, segmento)\n",
    "        \n",
    "    # Elegir posicion del nodo segun coordenada 'y'\n",
    "    if punto.y < nodo.key[0].y:\n",
    "        nodo.left = insertar(nodo.left, punto, segmento)\n",
    "    elif punto.y > nodo.key[0].y:\n",
    "        nodo.right = insertar(nodo.right, punto, segmento)\n",
    "    # Elegir posicion del nodo segun coordenada 'x'\n",
    "    elif punto.x < nodo.key[0].x:\n",
    "        nodo.left = insertar(nodo.left, punto, segmento)\n",
    "    elif punto.x > nodo.key[0].x:\n",
    "        nodo.right = insertar(nodo.right, punto, segmento)\n",
    "        #elif punto.x = nodo.key[0].x:\n",
    "        # El punto a insertar no puede tener las mismas coordenadas \n",
    "        # que la de ningun nodo en el arbol porque no queremos\n",
    "        # repetir eventos. Escribir funcion 'buscar_en_arbol()'\n",
    "        # y correrla antes de insertar() para evitar esto.\n",
    "    return nodo\n",
    "\n",
    "def inorder(root):\n",
    "    if root is not None:\n",
    "        inorder(root.left)\n",
    "        print(root.key[0].x, root.key[0].y, end=\" \")\n",
    "        inorder(root.right)"
   ]
  },
  {
   "cell_type": "code",
   "execution_count": 15,
   "id": "5ab65d26",
   "metadata": {},
   "outputs": [
    {
     "name": "stdout",
     "output_type": "stream",
     "text": [
      "3.0973933257618533 0.16420760425933878 6.732840258003893 0.192307054611075 2.6770844119092274 0.21709308521288717 1.2097116703392674 0.7018043184437528 9.011717690475006 1.3585105367153372 6.720186706843318 1.532151144815439 2.299195920151825 1.562563222647847 2.1487611575403296 1.8272262798667083 7.300703562699851 2.0467376676663585 4.794794085330908 2.243693462041211 2.1011240177015744 2.389282028875673 8.937901477613849 2.5467129070142525 4.631073902783278 2.5611544461058244 7.422543208710151 2.88948886923009 2.275135357122531 3.243294319416996 4.728514552418586 3.4494326315775203 4.545882807254475 3.677900779057061 9.851920788266767 3.699572038116915 4.82898321530251 4.685633267274563 3.353364504137862 5.10620686588193 4.625925373763206 5.125831328972414 6.374082511236036 5.797993452588878 9.704614197159122 5.803096512918192 3.9130490948872954 5.864678936772406 5.449102931311804 5.975277888034908 7.506820686066624 6.456968092475742 1.0908958877507413 6.604327714537766 4.416826381940085 6.613020481045494 4.653324135205722 6.7161488661634685 3.9026748774851994 6.770981568947143 7.019299840191945 7.168139472344088 8.618222063777768 7.202506608629344 2.155707152132101 7.476033912821739 4.802390598555547 7.479524348016257 1.747588689405083 8.407960379700505 9.81558554344407 9.161182558879636 3.8394305319340583 9.198805731445608 8.457619076825392 9.22074929083469 0.23570933102201264 9.463068550097715 5.973354688737294 9.52956788809999 7.907647843379094 9.548269270856316 7.081037235379109 9.736488927390727 "
     ]
    }
   ],
   "source": [
    "set_of_points = []\n",
    "raiz = None\n",
    "seed()\n",
    "\n",
    "x = random()*10\n",
    "y = random()*10\n",
    "p1 = Point(x, y)\n",
    "set_of_points.append(p1)\n",
    "x = random()*10\n",
    "y = random()*10\n",
    "p2 = Point(x, y)\n",
    "set_of_points.append(p2)\n",
    "s = Segment(p1, p2)\n",
    "if p1.y > p2.y:\n",
    "    raiz = insertar(raiz, p1, s)\n",
    "    raiz = insertar(raiz, p2, None)\n",
    "elif p2.y > p1.y:\n",
    "    raiz = insertar(raiz, p2, s)\n",
    "    raiz = insertar(raiz, p1, None)\n",
    "elif p1.x < p2.x:\n",
    "    raiz = insertar(raiz, p1, s)\n",
    "    raiz = insertar(raiz, p2, None)\n",
    "else:\n",
    "    raiz = insertar(raiz, p2, s)\n",
    "    raiz = insertar(raiz, p1, None)\n",
    "\n",
    "\n",
    "# Generar veinte puntos, diez segmentos de recta\n",
    "#\"\"\"\n",
    "for i in range(20):\n",
    "    x = random()*10\n",
    "    y = random()*10\n",
    "    p1 = Point(x, y)\n",
    "    set_of_points.append(p1)\n",
    "    x = random()*10\n",
    "    y = random()*10\n",
    "    p2 = Point(x, y)\n",
    "    set_of_points.append(p2)\n",
    "    s = Segment(p1, p2)\n",
    "    if p1.y > p2.y:\n",
    "        raiz = insertar(raiz, p1, s)\n",
    "        raiz = insertar(raiz, p2, None)\n",
    "    elif p2.y > p1.y:\n",
    "        raiz = insertar(raiz, p2, s)\n",
    "        raiz = insertar(raiz, p1, None)\n",
    "    elif p1.x < p2.x:\n",
    "        raiz = insertar(raiz, p1, s)\n",
    "        raiz = insertar(raiz, p2, None)\n",
    "    else:\n",
    "        raiz = insertar(raiz, p2, s)\n",
    "        raiz = insertar(raiz, p1, None)\n",
    "#\"\"\"\n",
    "\n",
    "inorder(raiz)"
   ]
  },
  {
   "cell_type": "code",
   "execution_count": null,
   "id": "351576fd",
   "metadata": {},
   "outputs": [],
   "source": []
  }
 ],
 "metadata": {
  "kernelspec": {
   "display_name": "Python 3 (ipykernel)",
   "language": "python",
   "name": "python3"
  },
  "language_info": {
   "codemirror_mode": {
    "name": "ipython",
    "version": 3
   },
   "file_extension": ".py",
   "mimetype": "text/x-python",
   "name": "python",
   "nbconvert_exporter": "python",
   "pygments_lexer": "ipython3",
   "version": "3.10.6"
  }
 },
 "nbformat": 4,
 "nbformat_minor": 5
}
