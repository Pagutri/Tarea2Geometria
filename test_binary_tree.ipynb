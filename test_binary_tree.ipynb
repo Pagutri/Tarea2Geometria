{
 "cells": [
  {
   "cell_type": "markdown",
   "metadata": {},
   "source": [
    "Implementacion del arbol binario de busqueda (balanceado). Codigo tomado de https://www.geeksforgeeks.org/introduction-to-binary-search-tree-data-structure-and-algorithm-tutorials/"
   ]
  },
  {
   "cell_type": "markdown",
   "metadata": {},
   "source": [
    "A ver. Creo que es mas facil hacer primero el que guarda los segmentos. Nosierto, el que guarda los eventos."
   ]
  },
  {
   "cell_type": "code",
   "execution_count": 1,
   "metadata": {},
   "outputs": [],
   "source": [
    "from random import random, seed\n",
    "from Point import Point\n",
    "from Segment import Segment\n",
    "from NodoQ import *"
   ]
  },
  {
   "cell_type": "code",
   "execution_count": 2,
   "metadata": {},
   "outputs": [
    {
     "name": "stdout",
     "output_type": "stream",
     "text": [
      "2.41 0.125 7.826 0.577 7.39 0.72 3.828 1.308 9.908 1.353 3.791 1.477 0.726 1.598 2.618 3.182 5.401 3.433 1.892 3.722 7.569 3.868 9.477 4.048 5.569 4.261 2.531 4.273 4.945 4.591 7.463 4.769 7.464 4.82 6.24 5.295 5.8 5.342 0.702 5.384 6.285 6.168 6.867 6.742 1.649 6.933 2.062 7.291 8.215 7.379 2.01 7.67 5.958 7.788 8.805 7.922 4.625 8.213 6.179 8.288 2.253 8.739 9.137 8.892 5.852 8.914 5.265 9.005 4.896 9.204 3.615 9.419 7.666 9.474 2.508 9.589 6.179 9.672 0.233 9.831 5.029 9.88 5.992 9.992 "
     ]
    }
   ],
   "source": [
    "set_of_points = []\n",
    "raiz = None\n",
    "seed()\n",
    "\n",
    "x = round(random()*10, 3)\n",
    "y = round(random()*10, 3)\n",
    "p1 = Point(x, y)\n",
    "set_of_points.append(p1)\n",
    "x = round(random()*10, 3)\n",
    "y = round(random()*10, 3)\n",
    "p2 = Point(x, y)\n",
    "set_of_points.append(p2)\n",
    "s = Segment(p1, p2)\n",
    "if p1.y > p2.y:\n",
    "    raiz = insertar(raiz, p1, s)\n",
    "    raiz = insertar(raiz, p2, None)\n",
    "elif p2.y > p1.y:\n",
    "    raiz = insertar(raiz, p2, s)\n",
    "    raiz = insertar(raiz, p1, None)\n",
    "elif p1.x < p2.x:\n",
    "    raiz = insertar(raiz, p1, s)\n",
    "    raiz = insertar(raiz, p2, None)\n",
    "else:\n",
    "    raiz = insertar(raiz, p2, s)\n",
    "    raiz = insertar(raiz, p1, None)\n",
    "\n",
    "\n",
    "# Generar veinte puntos, diez segmentos de recta\n",
    "#\"\"\"\n",
    "for i in range(20):\n",
    "    x = round(random()*10, 3)\n",
    "    y = round(random()*10, 3)\n",
    "    p1 = Point(x, y)\n",
    "    set_of_points.append(p1)\n",
    "    x = round(random()*10, 3)\n",
    "    y = round(random()*10, 3)\n",
    "    p2 = Point(x, y)\n",
    "    set_of_points.append(p2)\n",
    "    s = Segment(p1, p2)\n",
    "    if p1.y > p2.y:\n",
    "        raiz = insertar(raiz, p1, s)\n",
    "        raiz = insertar(raiz, p2, None)\n",
    "    elif p2.y > p1.y:\n",
    "        raiz = insertar(raiz, p2, s)\n",
    "        raiz = insertar(raiz, p1, None)\n",
    "    elif p1.x < p2.x:\n",
    "        raiz = insertar(raiz, p1, s)\n",
    "        raiz = insertar(raiz, p2, None)\n",
    "    else:\n",
    "        raiz = insertar(raiz, p2, s)\n",
    "        raiz = insertar(raiz, p1, None)\n",
    "#\"\"\"\n",
    "\n",
    "inorder(raiz)"
   ]
  },
  {
   "cell_type": "code",
   "execution_count": 20,
   "metadata": {},
   "outputs": [
    {
     "name": "stdout",
     "output_type": "stream",
     "text": [
      "20 30 40 50 70 80 "
     ]
    }
   ],
   "source": [
    "# Function that returns the node with minimum\n",
    "# key value found in that tree\n",
    "def minValueNode(node):\n",
    "\tcurrent = node\n",
    "\n",
    "\t# Loop down to find the leftmost leaf\n",
    "\twhile current and current.left is not None:\n",
    "\t\tcurrent = current.left\n",
    "\n",
    "\treturn current\n",
    "\n",
    "# Function that deletes the key and\n",
    "# returns the new root\n",
    "def deleteNode(root, key):\n",
    "\t# base Case\n",
    "\tif root is None:\n",
    "\t\treturn root\n",
    "\n",
    "\t# If the key to be deleted is\n",
    "\t# smaller than the root's key,\n",
    "\t# then it lies in left subtree\n",
    "\tif key < root.key:\n",
    "\t\troot.left = deleteNode(root.left, key)\n",
    "\n",
    "\t# If the key to be deleted is\n",
    "\t# greater than the root's key,\n",
    "\t# then it lies in right subtree\n",
    "\telif key > root.key:\n",
    "\n",
    "\t\troot.right = deleteNode(root.right, key)\n",
    "\n",
    "\t# If key is same as root's key,\n",
    "\t# then this is the node\n",
    "\t# to be deleted\n",
    "\telse:\n",
    "\n",
    "\t\t# Node with only one child\n",
    "\t\t# or no child\n",
    "\t\tif root.left is None:\n",
    "\t\t\ttemp = root.right\n",
    "\t\t\troot = None\n",
    "\t\t\treturn temp\n",
    "\t\telif root.right is None:\n",
    "\t\t\ttemp = root.left\n",
    "\t\t\troot = None\n",
    "\t\t\treturn temp\n",
    "\n",
    "\t\t# Node with two children:\n",
    "\t\t# Get the inorder successor(smallest\n",
    "\t\t# in the right subtree)\n",
    "\t\ttemp = minValueNode(root.right)\n",
    "\n",
    "\t\t# Copy the inorder successor's\n",
    "\t\t# content to this node\n",
    "\t\troot.key = temp.key\n",
    "\n",
    "\t\t# Delete the inorder successor\n",
    "\t\troot.right = deleteNode(root.right, temp.key)\n",
    "\n",
    "\treturn root\n",
    "\n",
    "# Driver Code\n",
    "if __name__ == '__main__':\n",
    "\t# Let us create following BST\n",
    "\t#\t\t 50\n",
    "\t#\t /\t \\\n",
    "\t#\t 30\t 70\n",
    "\t#\t / \\ / \\\n",
    "\t# 20 40 60 80\n",
    "\n",
    "\troot = None\n",
    "\n",
    "\t# Creating the BST\n",
    "\troot = insert(root, 50)\n",
    "\tinsert(root, 30)\n",
    "\tinsert(root, 20)\n",
    "\tinsert(root, 40)\n",
    "\tinsert(root, 70)\n",
    "\tinsert(root, 60)\n",
    "\tinsert(root, 80)\n",
    "\n",
    "\t# Function Call\n",
    "\troot = deleteNode(root, 60)\n",
    "\tinorder(root)\n",
    "\t\n",
    "\t#This code is contributed by japmeet01\n"
   ]
  },
  {
   "cell_type": "code",
   "execution_count": null,
   "metadata": {},
   "outputs": [],
   "source": []
  }
 ],
 "metadata": {
  "kernelspec": {
   "display_name": "Python 3",
   "language": "python",
   "name": "python3"
  },
  "language_info": {
   "codemirror_mode": {
    "name": "ipython",
    "version": 3
   },
   "file_extension": ".py",
   "mimetype": "text/x-python",
   "name": "python",
   "nbconvert_exporter": "python",
   "pygments_lexer": "ipython3",
   "version": "3.7.3"
  }
 },
 "nbformat": 4,
 "nbformat_minor": 5
}
