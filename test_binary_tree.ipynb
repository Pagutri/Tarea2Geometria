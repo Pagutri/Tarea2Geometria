{
 "cells": [
  {
   "cell_type": "markdown",
   "id": "de001f1b",
   "metadata": {},
   "source": [
    "Implementacion del arbol binario de busqueda (balanceado). Codigo tomado de https://www.geeksforgeeks.org/introduction-to-binary-search-tree-data-structure-and-algorithm-tutorials/"
   ]
  },
  {
   "cell_type": "markdown",
   "id": "67608b6f",
   "metadata": {},
   "source": [
    "A ver. Creo que es mas facil hacer primero el que guarda los segmentos. Nosierto, el que guarda los eventos."
   ]
  },
  {
   "cell_type": "code",
   "execution_count": 16,
   "id": "80dbb291",
   "metadata": {},
   "outputs": [],
   "source": [
    "from random import random, seed\n",
    "from Point import Point\n",
    "from Segment import Segment\n",
    "from NodoQ import *"
   ]
  },
  {
   "cell_type": "code",
   "execution_count": 19,
   "id": "192ef0e8",
   "metadata": {},
   "outputs": [
    {
     "name": "stdout",
     "output_type": "stream",
     "text": [
      "2.043 0.267 0.066 0.549 1.206 0.628 6.203 0.977 5.733 1.311 0.719 1.387 4.481 1.42 3.762 1.606 5.578 2.402 0.347 2.833 8.692 2.876 8.563 3.199 0.603 3.394 0.242 3.504 4.121 4.176 5.541 4.557 3.653 4.663 9.757 4.81 6.969 4.822 6.708 5.081 7.484 5.417 0.589 5.934 0.442 6.126 4.851 6.366 2.702 6.606 2.02 6.654 5.024 6.886 9.007 7.021 4.669 7.178 3.29 7.664 8.79 7.934 6.542 7.998 2.391 8.094 5.657 8.772 0.406 8.804 4.701 8.972 9.141 9.19 2.291 9.32 0.499 9.336 1.536 9.533 7.986 9.85 5.374 9.9 "
     ]
    }
   ],
   "source": [
    "set_of_points = []\n",
    "raiz = None\n",
    "seed()\n",
    "\n",
    "x = round(random()*10, 3)\n",
    "y = round(random()*10, 3)\n",
    "p1 = Point(x, y)\n",
    "set_of_points.append(p1)\n",
    "x = round(random()*10, 3)\n",
    "y = round(random()*10, 3)\n",
    "p2 = Point(x, y)\n",
    "set_of_points.append(p2)\n",
    "s = Segment(p1, p2)\n",
    "if p1.y > p2.y:\n",
    "    raiz = insertar(raiz, p1, s)\n",
    "    raiz = insertar(raiz, p2, None)\n",
    "elif p2.y > p1.y:\n",
    "    raiz = insertar(raiz, p2, s)\n",
    "    raiz = insertar(raiz, p1, None)\n",
    "elif p1.x < p2.x:\n",
    "    raiz = insertar(raiz, p1, s)\n",
    "    raiz = insertar(raiz, p2, None)\n",
    "else:\n",
    "    raiz = insertar(raiz, p2, s)\n",
    "    raiz = insertar(raiz, p1, None)\n",
    "\n",
    "\n",
    "# Generar veinte puntos, diez segmentos de recta\n",
    "#\"\"\"\n",
    "for i in range(20):\n",
    "    x = round(random()*10, 3)\n",
    "    y = round(random()*10, 3)\n",
    "    p1 = Point(x, y)\n",
    "    set_of_points.append(p1)\n",
    "    x = round(random()*10, 3)\n",
    "    y = round(random()*10, 3)\n",
    "    p2 = Point(x, y)\n",
    "    set_of_points.append(p2)\n",
    "    s = Segment(p1, p2)\n",
    "    if p1.y > p2.y:\n",
    "        raiz = insertar(raiz, p1, s)\n",
    "        raiz = insertar(raiz, p2, None)\n",
    "    elif p2.y > p1.y:\n",
    "        raiz = insertar(raiz, p2, s)\n",
    "        raiz = insertar(raiz, p1, None)\n",
    "    elif p1.x < p2.x:\n",
    "        raiz = insertar(raiz, p1, s)\n",
    "        raiz = insertar(raiz, p2, None)\n",
    "    else:\n",
    "        raiz = insertar(raiz, p2, s)\n",
    "        raiz = insertar(raiz, p1, None)\n",
    "#\"\"\"\n",
    "\n",
    "inorder(raiz)"
   ]
  }
 ],
 "metadata": {
  "kernelspec": {
   "display_name": "Python 3 (ipykernel)",
   "language": "python",
   "name": "python3"
  },
  "language_info": {
   "codemirror_mode": {
    "name": "ipython",
    "version": 3
   },
   "file_extension": ".py",
   "mimetype": "text/x-python",
   "name": "python",
   "nbconvert_exporter": "python",
   "pygments_lexer": "ipython3",
   "version": "3.10.6"
  }
 },
 "nbformat": 4,
 "nbformat_minor": 5
}
