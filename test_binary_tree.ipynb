{
 "cells": [
  {
   "cell_type": "markdown",
   "id": "167ae9ef",
   "metadata": {},
   "source": [
    "Implementacion del arbol binario de busqueda (balanceado). Codigo tomado de https://www.geeksforgeeks.org/introduction-to-binary-search-tree-data-structure-and-algorithm-tutorials/"
   ]
  },
  {
   "cell_type": "markdown",
   "id": "9dca5f7f",
   "metadata": {},
   "source": [
    "A ver. Creo que es mas facil hacer primero el que guarda los segmentos. Nosierto, el que guarda los eventos."
   ]
  },
  {
   "cell_type": "code",
   "execution_count": 16,
   "id": "cf3db8f0",
   "metadata": {},
   "outputs": [],
   "source": [
    "from random import random, seed\n",
    "from Point import Point\n",
    "from Segment import Segment\n",
    "from NodoQ import *"
   ]
  },
  {
   "cell_type": "code",
   "execution_count": 17,
   "id": "81901605",
   "metadata": {},
   "outputs": [
    {
     "name": "stdout",
     "output_type": "stream",
     "text": [
      "2.7522061793965227 0.8480277108972201 7.156217081531654 1.1153998864476922 5.530589073047092 1.2428137927224736 1.494042945898405 1.2871933060897789 0.10800525163344177 1.3691372143130465 8.819452643266855 1.4399372337952976 7.5533844708548 2.5641893109570093 7.957746222333651 2.797945704796525 4.094599154889316 3.3603545680919353 0.005476559106272205 3.526311523667509 6.305216562872996 3.5808223108680637 9.248540444885842 3.679473275580094 2.5674589618617394 3.707654531313791 5.63977613410641 3.862002280638136 1.862363467518643 3.925746421516665 0.24470135815932048 4.576113301646842 2.17997159673852 4.610568117776359 3.036198202303636 4.676764749603425 5.9400464128767405 4.759587158875037 7.382965326219406 5.026965409762219 2.567331571142759 5.121593236832357 4.480157938472395 5.643218291808649 7.296822988960935 6.026020817207738 8.59291738523879 6.041364440370418 9.335457829474826 6.121826670851642 4.668625466523012 6.158547313241531 8.07665112014706 6.168190398691102 2.2745289071911357 6.723674062144877 3.25806683528299 6.9597964180461975 6.588110246837957 7.390728246499831 7.420080448942315 7.533978013099755 7.594062380411655 7.70029985377653 9.500501679993345 8.012558793851197 7.933391931206004 8.018809925017766 7.517961283152124 8.222259403337862 4.28121371572211 8.299429067165814 9.432503316890509 8.761804785497613 9.088153320640398 8.787802734327428 1.023554514389896 8.79730389718626 1.732915910746966 9.38817180290966 4.856673913027772 9.810809439326688 2.319274607439054 9.936858654913772 "
     ]
    }
   ],
   "source": [
    "set_of_points = []\n",
    "raiz = None\n",
    "seed()\n",
    "\n",
    "x = random()*10\n",
    "y = random()*10\n",
    "p1 = Point(x, y)\n",
    "set_of_points.append(p1)\n",
    "x = random()*10\n",
    "y = random()*10\n",
    "p2 = Point(x, y)\n",
    "set_of_points.append(p2)\n",
    "s = Segment(p1, p2)\n",
    "if p1.y > p2.y:\n",
    "    raiz = insertar(raiz, p1, s)\n",
    "    raiz = insertar(raiz, p2, None)\n",
    "elif p2.y > p1.y:\n",
    "    raiz = insertar(raiz, p2, s)\n",
    "    raiz = insertar(raiz, p1, None)\n",
    "elif p1.x < p2.x:\n",
    "    raiz = insertar(raiz, p1, s)\n",
    "    raiz = insertar(raiz, p2, None)\n",
    "else:\n",
    "    raiz = insertar(raiz, p2, s)\n",
    "    raiz = insertar(raiz, p1, None)\n",
    "\n",
    "\n",
    "# Generar veinte puntos, diez segmentos de recta\n",
    "#\"\"\"\n",
    "for i in range(20):\n",
    "    x = random()*10\n",
    "    y = random()*10\n",
    "    p1 = Point(x, y)\n",
    "    set_of_points.append(p1)\n",
    "    x = random()*10\n",
    "    y = random()*10\n",
    "    p2 = Point(x, y)\n",
    "    set_of_points.append(p2)\n",
    "    s = Segment(p1, p2)\n",
    "    if p1.y > p2.y:\n",
    "        raiz = insertar(raiz, p1, s)\n",
    "        raiz = insertar(raiz, p2, None)\n",
    "    elif p2.y > p1.y:\n",
    "        raiz = insertar(raiz, p2, s)\n",
    "        raiz = insertar(raiz, p1, None)\n",
    "    elif p1.x < p2.x:\n",
    "        raiz = insertar(raiz, p1, s)\n",
    "        raiz = insertar(raiz, p2, None)\n",
    "    else:\n",
    "        raiz = insertar(raiz, p2, s)\n",
    "        raiz = insertar(raiz, p1, None)\n",
    "#\"\"\"\n",
    "\n",
    "inorder(raiz)"
   ]
  },
  {
   "cell_type": "code",
   "execution_count": null,
   "id": "8a2986b2",
   "metadata": {},
   "outputs": [],
   "source": []
  }
 ],
 "metadata": {
  "kernelspec": {
   "display_name": "Python 3 (ipykernel)",
   "language": "python",
   "name": "python3"
  },
  "language_info": {
   "codemirror_mode": {
    "name": "ipython",
    "version": 3
   },
   "file_extension": ".py",
   "mimetype": "text/x-python",
   "name": "python",
   "nbconvert_exporter": "python",
   "pygments_lexer": "ipython3",
   "version": "3.10.6"
  }
 },
 "nbformat": 4,
 "nbformat_minor": 5
}
