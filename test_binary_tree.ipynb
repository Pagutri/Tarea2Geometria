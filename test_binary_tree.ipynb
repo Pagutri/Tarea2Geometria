{
 "cells": [
  {
   "cell_type": "markdown",
   "id": "df1dad45",
   "metadata": {},
   "source": [
    "Pruebas de la implementación del árbol binario de búsqueda para guardar puntos evento. Código adaptado de https://www.geeksforgeeks.org/introduction-to-binary-search-tree-data-structure-and-algorithm-tutorials/"
   ]
  },
  {
   "cell_type": "code",
   "execution_count": 16,
   "id": "c6a243a9",
   "metadata": {},
   "outputs": [],
   "source": [
    "from random import random, seed\n",
    "from Point import Point\n",
    "from Segment import Segment\n",
    "from NodoQ import *"
   ]
  },
  {
   "cell_type": "code",
   "execution_count": 17,
   "id": "870c269c",
   "metadata": {},
   "outputs": [
    {
     "name": "stdout",
     "output_type": "stream",
     "text": [
      "( 8.342 0.721) ( 4.414 1.633) ( 3.019 2.11) ( 7.252 2.722) ( 1.05 3.174) ( 8.637 3.853) ( 0.516 4.281) ( 0.756 4.507) ( 8.277 8.15) ( 3.874 9.337) "
     ]
    }
   ],
   "source": [
    "set_of_points = []\n",
    "raiz = None\n",
    "seed()\n",
    "\n",
    "x = round(random()*10, 3)\n",
    "y = round(random()*10, 3)\n",
    "p1 = Point(x, y)\n",
    "set_of_points.append(p1)\n",
    "x = round(random()*10, 3)\n",
    "y = round(random()*10, 3)\n",
    "p2 = Point(x, y)\n",
    "set_of_points.append(p2)\n",
    "s = Segment(p1, p2)\n",
    "if p1 > p2:\n",
    "    raiz = insertar(raiz, p1, s)\n",
    "    raiz = insertar(raiz, p2, None)\n",
    "else:\n",
    "    raiz = insertar(raiz, p2, s)\n",
    "    raiz = insertar(raiz, p1, None)\n",
    "\n",
    "# Generar diez puntos, cinco segmentos de recta\n",
    "#\"\"\"\n",
    "for i in range(4):\n",
    "    x = round(random()*10, 3)\n",
    "    y = round(random()*10, 3)\n",
    "    p1 = Point(x, y)\n",
    "    set_of_points.append(p1)\n",
    "    x = round(random()*10, 3)\n",
    "    y = round(random()*10, 3)\n",
    "    p2 = Point(x, y)\n",
    "    set_of_points.append(p2)\n",
    "    s = Segment(p1, p2)\n",
    "    if p1 > p2:\n",
    "        raiz = insertar(raiz, p1, s)\n",
    "        raiz = insertar(raiz, p2, None)\n",
    "    else:\n",
    "        raiz = insertar(raiz, p2, s)\n",
    "        raiz = insertar(raiz, p1, None)\n",
    "#\"\"\"\n",
    "\n",
    "inorder(raiz)"
   ]
  },
  {
   "cell_type": "code",
   "execution_count": 18,
   "id": "d5db6f56",
   "metadata": {},
   "outputs": [
    {
     "name": "stdout",
     "output_type": "stream",
     "text": [
      "( 8.342 0.721) ( 4.414 1.633) ( 3.019 2.11) ( 7.252 2.722) ( 1.05 3.174) ( 8.637 3.853) ( 0.516 4.281) ( 0.756 4.507) ( 8.277 8.15) "
     ]
    }
   ],
   "source": [
    "max_nodo = nodo_maximo(raiz)\n",
    "raiz = borrar_nodo(raiz, max_nodo.key)\n",
    "inorder(raiz)"
   ]
  }
 ],
 "metadata": {
  "kernelspec": {
   "display_name": "Python 3 (ipykernel)",
   "language": "python",
   "name": "python3"
  },
  "language_info": {
   "codemirror_mode": {
    "name": "ipython",
    "version": 3
   },
   "file_extension": ".py",
   "mimetype": "text/x-python",
   "name": "python",
   "nbconvert_exporter": "python",
   "pygments_lexer": "ipython3",
   "version": "3.10.6"
  }
 },
 "nbformat": 4,
 "nbformat_minor": 5
}
